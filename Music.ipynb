{
 "cells": [
  {
   "cell_type": "markdown",
   "metadata": {},
   "source": [
    "---\n",
    "\n",
    "Data Collection\n",
    "\n",
    "---"
   ]
  },
  {
   "cell_type": "code",
   "execution_count": null,
   "metadata": {},
   "outputs": [],
   "source": [
    "import requests\n",
    "import base64\n",
    "\n",
    "# Your client ID and client secret obtained from the Spotify Developer Dashboard\n",
    "client_id = '",
    "with open(\"data.txt\", \"r\") as f:\n",
    "    client_secret = f.read()\n",
    "\n",
    "# Spotify Accounts service endpoint for getting access tokens\n",
    "token_url = 'https://accounts.spotify.com/api/token'\n",
    "\n",
    "# Parameters for the token request\n",
    "data = {\n",
    "    'grant_type': 'client_credentials'\n",
    "}\n",
    "\n",
    "# Base64 encode the client ID and client secret\n",
    "client_credentials = f\"{client_id}:{client_secret}\"\n",
    "base64_credentials = base64.b64encode(client_credentials.encode()).decode('utf-8')\n",
    "\n",
    "# HTTP Basic Auth header with base64-encoded client ID and client secret\n",
    "headers = {\n",
    "    'Authorization': f'Basic {base64_credentials}'\n",
    "}\n",
    "\n",
    "# Sending a POST request to the token endpoint\n",
    "response = requests.post(token_url, data=data, headers=headers)\n",
    "\n",
    "# Checking if the request was successful\n",
    "if response.status_code == 200:\n",
    "    # Parsing the JSON response\n",
    "    token_data = response.json()\n",
    "    # Extracting the access token\n",
    "    access_token = token_data['access_token']\n",
    "    print(\"Access Token:\", access_token)\n",
    "else:\n",
    "    print(f\"Error: {response.status_code}\")"
   ]
  },
  {
   "cell_type": "code",
   "execution_count": null,
   "metadata": {},
   "outputs": [],
   "source": [
    "api_url = \"https://api.spotify.com/v1/search/\"\n",
    "header = {\n",
    "    'Authorization': 'Bearer ' + access_token\n",
    "    }\n",
    "param = {\n",
    "    'q': 'artist:David Bowie',\n",
    "    'type': 'track'\n",
    "}\n",
    "\n",
    "\n",
    "resp = requests.get(api_url, params=param, headers=header)\n",
    "\n",
    "print('GET Response Status Code:', resp.status_code)\n",
    "print(resp.text)"
   ]
  },
  {
   "cell_type": "code",
   "execution_count": null,
   "metadata": {},
   "outputs": [],
   "source": [
    "if (resp.status_code == 200):\n",
    "    data = resp.json()\n",
    "\n",
    "    for track in data['tracks']['items']:\n",
    "        print(track['name'])   "
   ]
  },
  {
   "cell_type": "code",
   "execution_count": null,
   "metadata": {},
   "outputs": [],
   "source": [
    "api_url = \"https://api.spotify.com/v1/browse/categories\"\n",
    "\n",
    "param = {\n",
    "    'country': 'US',\n",
    "    'type': 'regional'\n",
    "}\n",
    "\n",
    "\n",
    "resp = requests.get(api_url, params=param, headers=header)\n",
    "\n",
    "print('GET Response Status Code:', resp.status_code , '\\n')\n",
    "print(resp.text)"
   ]
  },
  {
   "cell_type": "code",
   "execution_count": null,
   "metadata": {},
   "outputs": [],
   "source": [
    "if (resp.status_code == 200):\n",
    "    data = resp.json()\n",
    "\n",
    "    for item in data['categories']['items']:\n",
    "        print(item['name'])"
   ]
  },
  {
   "cell_type": "markdown",
   "metadata": {},
   "source": [
    "---\n",
    "\n",
    "Project Start\n",
    "\n",
    "---"
   ]
  },
  {
   "cell_type": "markdown",
   "metadata": {},
   "source": [
    "Question/Problem addressed:\n",
    "\n",
    "How does Spotify's and Apple Music's top 100 tracks compare?"
   ]
  },
  {
   "cell_type": "code",
   "execution_count": null,
   "metadata": {},
   "outputs": [],
   "source": [
    "playlist_id = '5ABHKGoOzxkaa28ttQV9sE'\n",
    "\n",
    "api_url = \"https://api.spotify.com/v1/search\"\n",
    "\n",
    "param = {\n",
    "    'q': 'Top 100 most streamed songs on Spotify',\n",
    "    'type': 'playlist',\n",
    "    'limit': 10\n",
    "}\n",
    "\n",
    "\n",
    "resp = requests.get(api_url, params=param, headers=header)\n",
    "\n",
    "print('GET Response Status Code:', resp.status_code , '\\n')\n",
    "print(resp.text)"
   ]
  },
  {
   "cell_type": "code",
   "execution_count": null,
   "metadata": {},
   "outputs": [],
   "source": [
    "#API string found from previous response\n",
    "\n",
    "api_url = \"https://api.spotify.com/v1/playlists/5ABHKGoOzxkaa28ttQV9sE/tracks\"\n",
    "\n",
    "\n",
    "resp = requests.get(api_url, headers=header)\n",
    "\n",
    "print('GET Response Status Code:', resp.status_code , '\\n')\n",
    "print(resp.text)"
   ]
  },
  {
   "cell_type": "code",
   "execution_count": null,
   "metadata": {},
   "outputs": [],
   "source": [
    "spotifyTop100 = []\n",
    "\n",
    "if (resp.status_code == 200):\n",
    "    data = resp.json()\n",
    "\n",
    "    for item in data['items']:\n",
    "        track = item['track']\n",
    "        spotifyTop100.append(track['name'])\n",
    "\n",
    "print(spotifyTop100)"
   ]
  },
  {
   "cell_type": "code",
   "execution_count": null,
   "metadata": {},
   "outputs": [],
   "source": [
    "# Read CSV to gather Apple Music Data\n",
    "\n",
    "import pandas as pd\n",
    "import numpy as np\n",
    "\n",
    "musicData2023 = pd.read_csv('spotify-2023.csv', encoding='latin1')\n",
    "\n",
    "musicData2023.head()\n",
    "\n",
    "musicData2023 = musicData2023.dropna()"
   ]
  },
  {
   "cell_type": "code",
   "execution_count": null,
   "metadata": {},
   "outputs": [],
   "source": [
    "appleMusic = musicData2023.loc[musicData2023['in_apple_charts'] < 101]\n",
    "appleMusic = appleMusic.loc[appleMusic['in_apple_charts'] > 0]\n",
    "appleMusic = appleMusic[['track_name', 'in_apple_charts']]\n",
    "appleMusic = appleMusic.drop_duplicates(subset=['in_apple_charts'])\n",
    "\n",
    "appleMusicTop100 = []\n",
    "for item in appleMusic['track_name']:\n",
    "    appleMusicTop100.append(item)\n",
    "\n",
    "print(appleMusicTop100)"
   ]
  },
  {
   "cell_type": "code",
   "execution_count": null,
   "metadata": {},
   "outputs": [],
   "source": [
    "numStreamData = musicData2023[['streams']]\n",
    "\n",
    "totalStreams = 0\n",
    "\n",
    "for item in numStreamData.streams:\n",
    "    totalStreams += item\n",
    "\n",
    "formatted_number = '{:,}'.format(totalStreams)\n",
    "print(formatted_number + \": Total streams of songs on Spotify charts\")"
   ]
  },
  {
   "cell_type": "code",
   "execution_count": null,
   "metadata": {},
   "outputs": [],
   "source": [
    "yearVsStreams = musicData2023[['released_year', 'streams']]\n",
    "\n",
    "yearVsStreams.head()"
   ]
  },
  {
   "cell_type": "markdown",
   "metadata": {},
   "source": [
    "---\n",
    "\n",
    "Analysis\n",
    "\n",
    "---"
   ]
  },
  {
   "cell_type": "code",
   "execution_count": null,
   "metadata": {},
   "outputs": [],
   "source": [
    "import matplotlib.pyplot as plt"
   ]
  },
  {
   "cell_type": "code",
   "execution_count": null,
   "metadata": {},
   "outputs": [],
   "source": [
    "commonTopSongs = []\n",
    "\n",
    "for item in spotifyTop100:\n",
    "    if item in appleMusicTop100:\n",
    "        commonTopSongs.append(item)\n",
    "\n",
    "print(commonTopSongs, '\\n', len(commonTopSongs))"
   ]
  },
  {
   "cell_type": "code",
   "execution_count": null,
   "metadata": {},
   "outputs": [],
   "source": [
    "yearVsStreams = yearVsStreams.groupby('released_year')['streams'].sum()"
   ]
  },
  {
   "cell_type": "code",
   "execution_count": null,
   "metadata": {},
   "outputs": [],
   "source": [
    "print(yearVsStreams)"
   ]
  },
  {
   "cell_type": "code",
   "execution_count": null,
   "metadata": {},
   "outputs": [],
   "source": [
    "years = list(yearVsStreams.keys())\n",
    "streams= []\n",
    "for thing in yearVsStreams:\n",
    "    streams.append(thing)\n",
    "\n",
    "plt.figure(figsize=[16,8])\n",
    "plt.bar(years, streams)\n",
    "plt.xlabel('Year of release')\n",
    "plt.ylabel('Number of streams')\n",
    "plt.title(\"Year of songs release vs number of Spotify streams (2023)\")\n",
    "plt.yticks([100000000, 25000000000, 50000000000, 75000000000, 100000000000, 125000000000], ['100,000,000', '25,000,000,000', '50,000,000,000', '75,000,000,000', '100,000,000,000', '125,000,000,000'])\n",
    "\n",
    "plt.show()"
   ]
  },
  {
   "cell_type": "code",
   "execution_count": null,
   "metadata": {},
   "outputs": [],
   "source": [
    "streamBattleData = musicData2023[['track_name', 'in_spotify_charts', 'in_apple_charts']]\n",
    "streamBattleData = streamBattleData.drop_duplicates(subset=['track_name'])\n",
    "\n",
    "trackNames = streamBattleData['track_name'].unique()\n",
    "\n",
    "print(streamBattleData)"
   ]
  },
  {
   "cell_type": "code",
   "execution_count": null,
   "metadata": {},
   "outputs": [],
   "source": [
    "spotifyValues = []\n",
    "for i in streamBattleData['in_spotify_charts'].values:\n",
    "    spotifyValues.append(i)\n",
    "\n",
    "appleValues = []\n",
    "for i in streamBattleData['in_apple_charts'].values:\n",
    "    appleValues.append(i)\n",
    "\n",
    "arrayDifference = np.array(spotifyValues) - np.array(appleValues)\n",
    "\n",
    "plt.figure(figsize=[16,8])\n",
    "\n",
    "plt.scatter(trackNames[:200], arrayDifference[:200])\n",
    "plt.axhline(y=0, color='r')\n",
    "\n",
    "plt.show()"
   ]
  },
  {
   "cell_type": "code",
   "execution_count": null,
   "metadata": {},
   "outputs": [],
   "source": [
    "spotifyGreaterStreams = 0\n",
    "equalStreams = 0\n",
    "\n",
    "for item in arrayDifference:\n",
    "    if item > 1:\n",
    "        spotifyGreaterStreams += 1\n",
    "\n",
    "for item in arrayDifference:\n",
    "    if item == 0:\n",
    "        equalStreams += 1\n",
    "\n",
    "\n",
    "\n",
    "print(spotifyGreaterStreams , \"of the most streamed songs on Spotify in 2023 have higher stream numbers than Apple Music\")\n",
    "print(len(arrayDifference) - spotifyGreaterStreams - equalStreams, \"of the most streamed songs on Spotify in 2023 have lower stream numbers than Apple Music\")\n",
    "print(equalStreams, \"songs that have equal streams on both platforms\")\n"
   ]
  },
  {
   "cell_type": "code",
   "execution_count": null,
   "metadata": {},
   "outputs": [],
   "source": [
    "danceData = musicData2023[['danceability_%', 'bpm']]\n",
    "\n",
    "danceData.head()"
   ]
  },
  {
   "cell_type": "code",
   "execution_count": null,
   "metadata": {},
   "outputs": [],
   "source": [
    "plt.figure(figsize=[16,8])\n",
    "\n",
    "plt.scatter(danceData['bpm'], danceData['danceability_%'])\n",
    "\n",
    "plt.xlabel('BPM')\n",
    "plt.ylabel('Danceability %')\n",
    "plt.title(\"Danceability of top Spotify songs\")\n",
    "\n",
    "plt.show()"
   ]
  },
  {
   "cell_type": "code",
   "execution_count": null,
   "metadata": {},
   "outputs": [],
   "source": [
    "from sklearn.cluster import KMeans\n",
    "\n",
    "wcss = []\n",
    "for i in range(1, 9):\n",
    "    km = KMeans(n_clusters=i, init='k-means++', n_init=10, random_state=0)\n",
    "    km.fit(danceData)\n",
    "    wcss.append(km.inertia_)"
   ]
  },
  {
   "cell_type": "code",
   "execution_count": null,
   "metadata": {},
   "outputs": [],
   "source": [
    "plt.plot(range(1,9), wcss, '-ro')\n",
    "plt.title('Elbow')\n",
    "plt.xlabel('Num Clsuters')\n",
    "plt.ylabel('WCSS')\n",
    "plt.show()"
   ]
  },
  {
   "cell_type": "code",
   "execution_count": null,
   "metadata": {},
   "outputs": [],
   "source": [
    "k = 3\n",
    "km = KMeans(n_clusters=k, init='k-means++', n_init=10, random_state=0)\n",
    "y_km = km.fit_predict(danceData)"
   ]
  },
  {
   "cell_type": "code",
   "execution_count": null,
   "metadata": {},
   "outputs": [],
   "source": [
    "danceData = danceData.rename(columns={'danceability_%': 'dance'})\n",
    "\n",
    "print(danceData.columns)"
   ]
  },
  {
   "cell_type": "code",
   "execution_count": null,
   "metadata": {},
   "outputs": [],
   "source": [
    "plt.figure(figsize=[16,8])\n",
    "for i in range(0, k):\n",
    "    plt.scatter(danceData[y_km == i].bpm, danceData[y_km == i].dance)\n",
    "plt.scatter(km.cluster_centers_[:, 1], km.cluster_centers_[:, 0], marker=',',s=50)\n",
    "\n",
    "plt.xlabel('BPM')\n",
    "plt.ylabel('Danceability %')\n",
    "plt.title(\"Danceability of top Spotify songs\")\n",
    "\n",
    "\n",
    "plt.show()"
   ]
  }
 ],
 "metadata": {
  "kernelspec": {
   "display_name": "Python 3 (ipykernel)",
   "language": "python",
   "name": "python3"
  },
  "language_info": {
   "codemirror_mode": {
    "name": "ipython",
    "version": 3
   },
   "file_extension": ".py",
   "mimetype": "text/x-python",
   "name": "python",
   "nbconvert_exporter": "python",
   "pygments_lexer": "ipython3",
   "version": "3.9.7"
  }
 },
 "nbformat": 4,
 "nbformat_minor": 2
}
